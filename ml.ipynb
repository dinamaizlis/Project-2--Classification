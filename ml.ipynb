{
 "cells": [
  {
   "cell_type": "code",
   "execution_count": null,
   "id": "bdc010ff",
   "metadata": {},
   "outputs": [],
   "source": [
    "import numpy as np \n",
    "import pandas as pd\n",
    "import matplotlib.pyplot as plt\n",
    "import seaborn as sns\n",
    "import tensorflow as tf"
   ]
  },
  {
   "cell_type": "code",
   "execution_count": null,
   "id": "a4d294cf",
   "metadata": {},
   "outputs": [],
   "source": [
    "df_age_gender=pd.read_csv('/Users/dinamaizlis/Downloads/age_gender.csv')"
   ]
  },
  {
   "cell_type": "markdown",
   "id": "dbea1e48",
   "metadata": {},
   "source": [
    "## data"
   ]
  },
  {
   "cell_type": "code",
   "execution_count": null,
   "id": "014a4ee1",
   "metadata": {},
   "outputs": [],
   "source": [
    "df_age_gender.shape"
   ]
  },
  {
   "cell_type": "code",
   "execution_count": null,
   "id": "5427ee98",
   "metadata": {},
   "outputs": [],
   "source": [
    "df_age_gender.isnull().sum()"
   ]
  },
  {
   "cell_type": "code",
   "execution_count": null,
   "id": "685ab1f2",
   "metadata": {},
   "outputs": [],
   "source": [
    "df_to_show=df_age_gender.copy()\n",
    "df_to_show['pixels']=df_age_gender['pixels'].apply(lambda x:  np.array(x.split(), dtype=\"float32\"))"
   ]
  },
  {
   "cell_type": "code",
   "execution_count": null,
   "id": "dcef7ebd",
   "metadata": {},
   "outputs": [],
   "source": [
    "df_to_show.head(3)\n",
    "s=df_to_show['pixels']\n",
    "print(df_to_show['pixels'][0][1])\n",
    "dfn = df_to_show['pixels'].convert_dtypes()\n",
    "type(dfn[0][1])"
   ]
  },
  {
   "cell_type": "code",
   "execution_count": null,
   "id": "82d7062b",
   "metadata": {},
   "outputs": [],
   "source": [
    "X = np.array(df_to_show['pixels'].tolist())\n",
    "X = X.reshape(X.shape[0],48,48,1)\n",
    "\n",
    "X.shape"
   ]
  },
  {
   "cell_type": "code",
   "execution_count": null,
   "id": "abfdd78b",
   "metadata": {
    "scrolled": false
   },
   "outputs": [],
   "source": [
    "plt.figure(figsize=(10,10))\n",
    "for i , image in enumerate(np.random.randint(0,23705,16)):\n",
    "    plt.subplot(4,4,i+1)\n",
    "    plt.imshow(X[image], cmap = \"gray\")\n",
    "    plt.axis(\"off\")\n",
    "plt.show()"
   ]
  },
  {
   "cell_type": "code",
   "execution_count": null,
   "id": "f928a0ea",
   "metadata": {},
   "outputs": [],
   "source": [
    "sns.barplot(y=list(df_to_show['gender'].value_counts().values),x= list(df_to_show['gender'].value_counts().index))"
   ]
  },
  {
   "cell_type": "markdown",
   "id": "11c028df",
   "metadata": {},
   "source": [
    "### split the the \"pixels\" feature ->for each pixel feature\n"
   ]
  },
  {
   "cell_type": "code",
   "execution_count": null,
   "id": "77728881",
   "metadata": {},
   "outputs": [],
   "source": [
    "df_pixels=df_age_gender.pixels.str.split(expand=True,)"
   ]
  },
  {
   "cell_type": "code",
   "execution_count": null,
   "id": "477062b3",
   "metadata": {},
   "outputs": [],
   "source": [
    "d=df_pixels.astype(str).astype(int)"
   ]
  },
  {
   "cell_type": "code",
   "execution_count": null,
   "id": "690532a0",
   "metadata": {},
   "outputs": [],
   "source": [
    "df_pixels=d/255"
   ]
  },
  {
   "cell_type": "code",
   "execution_count": null,
   "id": "e326f674",
   "metadata": {},
   "outputs": [],
   "source": [
    "df_pixels_age=df_pixels.copy()\n",
    "df_pixels_age=df_pixels_age.join(df_to_show)"
   ]
  },
  {
   "cell_type": "code",
   "execution_count": null,
   "id": "b9fc1260",
   "metadata": {},
   "outputs": [],
   "source": [
    "df_pixels_gender=df_pixels_age.drop(['pixels','age','img_name','ethnicity'],1)"
   ]
  },
  {
   "cell_type": "code",
   "execution_count": null,
   "id": "8cb83769",
   "metadata": {},
   "outputs": [],
   "source": [
    "df_pixels_gender.shape"
   ]
  },
  {
   "cell_type": "code",
   "execution_count": null,
   "id": "5f6ad3a7",
   "metadata": {},
   "outputs": [],
   "source": [
    "df_pixels_gender.head(4)"
   ]
  },
  {
   "cell_type": "markdown",
   "id": "a4a5ff4f",
   "metadata": {},
   "source": [
    "## train&test\n",
    "80% train  and 20% test\n",
    "\n"
   ]
  },
  {
   "cell_type": "code",
   "execution_count": null,
   "id": "25a28824",
   "metadata": {},
   "outputs": [],
   "source": [
    "mask = np.random.rand(len(df_pixels_gender)) <= 0.8\n",
    "training_data = df_pixels_gender[mask]\n",
    "testing_data = df_pixels_gender[~mask]"
   ]
  },
  {
   "cell_type": "code",
   "execution_count": null,
   "id": "6fc30ea8",
   "metadata": {},
   "outputs": [],
   "source": [
    "X_train=training_data.drop([\"gender\"],1)\n",
    "y_train=training_data[\"gender\"]"
   ]
  },
  {
   "cell_type": "code",
   "execution_count": null,
   "id": "beeb971e",
   "metadata": {},
   "outputs": [],
   "source": [
    "X_test=testing_data.drop([\"gender\"],1)\n",
    "y_test=testing_data[\"gender\"]"
   ]
  },
  {
   "cell_type": "markdown",
   "id": "fbcc2237",
   "metadata": {},
   "source": [
    "#### import tensorflow1"
   ]
  },
  {
   "cell_type": "code",
   "execution_count": null,
   "id": "81b2586b",
   "metadata": {},
   "outputs": [],
   "source": [
    "import tensorflow.compat.v1 as tf\n",
    "tf.disable_v2_behavior()"
   ]
  },
  {
   "cell_type": "markdown",
   "id": "52494d5c",
   "metadata": {},
   "source": [
    "## Logistic Regression in Tensorflow\n"
   ]
  },
  {
   "cell_type": "code",
   "execution_count": null,
   "id": "41ebd841",
   "metadata": {},
   "outputs": [],
   "source": [
    "W = tf.Variable(tf.random_normal(shape=[2304, 1]))\n",
    "b = tf.Variable(tf.random_normal(shape=[1, 1]))\n",
    "\n",
    "init = tf.global_variables_initializer()\n",
    "sess = tf.Session()\n",
    "sess.run(init)\n",
    "\n",
    "X= tf.placeholder(dtype=tf.float32, shape=[None, 2304])\n",
    "y = tf.placeholder(dtype=tf.float32, shape=[None, 1])"
   ]
  },
  {
   "cell_type": "code",
   "execution_count": null,
   "id": "0b390e74",
   "metadata": {},
   "outputs": [],
   "source": [
    "learning_rate = 0.001\n",
    "batch_size =800\n",
    "iter_num = 1500"
   ]
  },
  {
   "cell_type": "code",
   "execution_count": null,
   "id": "34722e36",
   "metadata": {},
   "outputs": [],
   "source": [
    "loss_trace = []\n",
    "train_acc = []\n",
    "test_acc = []\n",
    "\n",
    "mod = tf.matmul(X, W) + b\n",
    "loss = tf.reduce_mean(tf.nn.sigmoid_cross_entropy_with_logits(logits=mod, labels=y))\n",
    "opt = tf.train.GradientDescentOptimizer(learning_rate)\n",
    "update = opt.minimize(loss)\n",
    "prediction = tf.round(tf.sigmoid(mod))\n",
    "correct = tf.cast(tf.equal(prediction, y), dtype=tf.float32)\n",
    "accuracy = tf.reduce_mean(tf.cast(tf.equal(prediction, y), dtype=tf.float32))\n",
    "\n",
    "for epoch in range(iter_num):\n",
    "    batch_train_X=[]\n",
    "    batch_train_y=[]\n",
    "    import random\n",
    "    for i in range(batch_size):\n",
    "        n = random.randint(0,X_train.shape[0]-1)\n",
    "        batch_train_X.append(X_train.iloc[n])\n",
    "        batch_train_y.append(y_train.iloc[n])\n",
    "    batch_train_X=np.matrix(batch_train_X)\n",
    "    batch_train_y = np.matrix(batch_train_y).T\n",
    "    sess.run(update, feed_dict={X: batch_train_X, y: batch_train_y})\n",
    "    \n",
    "    temp_loss = sess.run(loss, feed_dict={X: batch_train_X, y: batch_train_y})\n",
    "    temp_train_acc = sess.run(accuracy, feed_dict={X: X_train, y: np.matrix(y_train).T})\n",
    "    temp_test_acc = sess.run(accuracy, feed_dict={X: X_test, y: np.matrix(y_test).T})\n",
    "    \n",
    "    loss_trace.append(temp_loss)\n",
    "    train_acc.append(temp_train_acc)\n",
    "    test_acc.append(temp_test_acc)\n",
    "    \n",
    "    if (epoch + 1) % 10 == 0:\n",
    "        print('epoch: {:4d} loss: {:5f} train_acc: {:5f} test_acc: {:5f}'.format(epoch + 1, temp_loss,\n",
    "                                                                          temp_train_acc, temp_test_acc))\n",
    "     "
   ]
  },
  {
   "cell_type": "markdown",
   "id": "95a2e112",
   "metadata": {},
   "source": [
    "## Neural Network"
   ]
  },
  {
   "cell_type": "code",
   "execution_count": null,
   "id": "a04da4b2",
   "metadata": {},
   "outputs": [],
   "source": [
    "def Neural_Network(hidden):   \n",
    "    hidden_layer_nodes = hidden\n",
    "    x = tf.placeholder(tf.float32, [None, 2304])\n",
    "    y_ = tf.placeholder(tf.float32, [None, 1])\n",
    "    W1 = tf.Variable(tf.truncated_normal([2304,hidden_layer_nodes], stddev=0.1))\n",
    "    b1 = tf.Variable(tf.constant(0.1, shape=[hidden_layer_nodes]))\n",
    "    z1 = tf.add(tf.matmul(x,W1),b1)\n",
    "    a1 = tf.nn.relu(z1)\n",
    "    W2 = tf.Variable(tf.truncated_normal([hidden_layer_nodes,1], stddev=0.1))\n",
    "    b2 = tf.Variable(0.)\n",
    "    z2 = tf.matmul(a1,W2) + b2\n",
    "    pred = 1 / (1.0 + tf.exp(-z2))\n",
    "    pred2 = 1-(1 / (1.0 + tf.exp(-z2)))\n",
    "    loss = tf.reduce_mean(-(y_*tf.log(pred)+(1-y_)*tf.log(pred2)))\n",
    "    update = tf.train.GradientDescentOptimizer(0.0001).minimize(loss)\n",
    "    data_x = X_train\n",
    "    data_y = np.matrix(y_train).T\n",
    "    sess = tf.Session()\n",
    "    sess.run(tf.global_variables_initializer())\n",
    "    for i in range(0,5):\n",
    "            sess.run(update, feed_dict = {x:data_x, y_:data_y})\n",
    "    predict=pred.eval(session=sess, feed_dict = \t{x:X_test})\n",
    "    #print(predict)\n",
    "    count=0\n",
    "    y_test_new=np.matrix(y_test).T\n",
    "    #accuracy\n",
    "    for i in range (predict.shape[0]):\n",
    "        if predict[i]>0.5:\n",
    "            predict[i]=0\n",
    "        else:\n",
    "            predict[i]=1\n",
    "  \n",
    "        if(predict[i]-y_test_new[i]==[0.]):\n",
    "            count=count+1\n",
    "    return count\n"
   ]
  },
  {
   "cell_type": "code",
   "execution_count": null,
   "id": "652fc702",
   "metadata": {},
   "outputs": [],
   "source": [
    "max_hidden=0\n",
    "max_val=0\n",
    "for i in range (100):\n",
    "    for j in range (5):\n",
    "        if max_val< Neural_Network(i+4):\n",
    "            max_val= Neural_Network(i+4)\n",
    "            max_hidden=i+4\n",
    "    if i%10==0:\n",
    "        print (\"max_val  \", max_val,\"max_hidden  \",max_hidden)"
   ]
  },
  {
   "cell_type": "code",
   "execution_count": null,
   "id": "b89ec619",
   "metadata": {},
   "outputs": [],
   "source": []
  },
  {
   "cell_type": "code",
   "execution_count": null,
   "id": "e54bb41b",
   "metadata": {},
   "outputs": [],
   "source": []
  },
  {
   "cell_type": "code",
   "execution_count": null,
   "id": "0026692c",
   "metadata": {},
   "outputs": [],
   "source": []
  },
  {
   "cell_type": "code",
   "execution_count": null,
   "id": "a7eb0448",
   "metadata": {},
   "outputs": [],
   "source": []
  }
 ],
 "metadata": {
  "kernelspec": {
   "display_name": "Python 3",
   "language": "python",
   "name": "python3"
  },
  "language_info": {
   "codemirror_mode": {
    "name": "ipython",
    "version": 3
   },
   "file_extension": ".py",
   "mimetype": "text/x-python",
   "name": "python",
   "nbconvert_exporter": "python",
   "pygments_lexer": "ipython3",
   "version": "3.8.8"
  }
 },
 "nbformat": 4,
 "nbformat_minor": 5
}
