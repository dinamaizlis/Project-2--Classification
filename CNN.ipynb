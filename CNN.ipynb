{
 "cells": [
  {
   "cell_type": "code",
   "execution_count": null,
   "id": "cce26256",
   "metadata": {},
   "outputs": [],
   "source": [
    "import numpy as np\n",
    "import pandas as pd\n",
    "\n",
    "from matplotlib import pyplot as plt\n",
    "import seaborn as sns \n",
    "import plotly.express as px\n",
    "import plotly.graph_objects as go\n",
    "\n",
    "from sklearn.model_selection import train_test_split\n",
    "\n",
    "import tensorflow as tf\n",
    "from tensorflow.keras.models import Sequential, Model\n",
    "from tensorflow.keras.layers import Dense, Conv2D, Activation, MaxPool2D, Flatten, Dropout, BatchNormalization\n",
    "from tensorflow.keras.preprocessing import image\n",
    "from tensorflow.keras.callbacks import ModelCheckpoint"
   ]
  },
  {
   "cell_type": "code",
   "execution_count": null,
   "id": "acde46b6",
   "metadata": {},
   "outputs": [],
   "source": [
    "df=pd.read_csv('/Users/dinamaizlis/Downloads/age_gender.csv')\n"
   ]
  },
  {
   "cell_type": "code",
   "execution_count": null,
   "id": "150620dd",
   "metadata": {},
   "outputs": [],
   "source": [
    "df_pixels = df.pixels.str.split(\" \").tolist() \n",
    "df_pixels = pd.DataFrame(df_pixels, dtype=int)\n",
    "df_images = df_pixels.values\n",
    "df_images = df_images.astype(np.float)"
   ]
  },
  {
   "cell_type": "code",
   "execution_count": null,
   "id": "b60a994e",
   "metadata": {},
   "outputs": [],
   "source": [
    "X=df_images\n",
    "#normalizing pixels data\n",
    "X=X/255"
   ]
  },
  {
   "cell_type": "code",
   "execution_count": null,
   "id": "902c0d66",
   "metadata": {},
   "outputs": [],
   "source": [
    "y = df['gender']\n",
    "\n",
    "X_train, X_test, y_train, y_test = train_test_split(\n",
    "    X, y, test_size=0.30, random_state=35\n",
    ")"
   ]
  },
  {
   "cell_type": "code",
   "execution_count": null,
   "id": "f22da3a5",
   "metadata": {},
   "outputs": [],
   "source": [
    "# X_train, X_val, y_train, y_val = train_test_split(\n",
    "#     X_train, y_train, test_size=0.10, random_state=35\n",
    "# )"
   ]
  },
  {
   "cell_type": "code",
   "execution_count": null,
   "id": "e815aed3",
   "metadata": {},
   "outputs": [],
   "source": [
    "X_train = X_train.reshape(-1, 48, 48, 1)\n",
    "X_test = X_test.reshape(-1, 48, 48, 1)\n"
   ]
  },
  {
   "cell_type": "code",
   "execution_count": null,
   "id": "d1fa9e9a",
   "metadata": {},
   "outputs": [],
   "source": [
    "print('X_Train:', X_train.shape)\n",
    "print('X_Test:', X_test.shape)\n"
   ]
  },
  {
   "cell_type": "code",
   "execution_count": null,
   "id": "4392d09e",
   "metadata": {},
   "outputs": [],
   "source": [
    "model = Sequential()\n",
    "model.add(Conv2D(32,(3,3), activation = \"relu\", input_shape = (48,48,1)))\n",
    "model.add(MaxPool2D(2,2))\n",
    "    \n",
    "model.add(Conv2D(64,(3,3), activation = \"relu\"))\n",
    "model.add(MaxPool2D(2,2))\n",
    "    \n",
    "model.add(Dropout(0.3))\n",
    "    \n",
    "model.add(Conv2D(32,(3,3), activation = \"relu\"))\n",
    "model.add(MaxPool2D(2,2))\n",
    "  \n",
    "model.add(Flatten())\n",
    "    \n",
    "model.add(Dense(64,activation = 'relu'))\n",
    "model.add(Dropout(0.5))\n",
    "    \n",
    "    \n",
    "model.add(Dense(1,activation='sigmoid'))\n",
    "\n",
    "\n",
    "model.compile(optimizer='sgd',\n",
    "              loss=tf.keras.losses.BinaryCrossentropy(),\n",
    "              metrics=['accuracy'])\n",
    "\n",
    "model.summary()"
   ]
  },
  {
   "cell_type": "code",
   "execution_count": null,
   "id": "a6d11fa2",
   "metadata": {},
   "outputs": [],
   "source": [
    "epochs = 20\n",
    "batchSize =100"
   ]
  },
  {
   "cell_type": "code",
   "execution_count": null,
   "id": "7b5b987c",
   "metadata": {},
   "outputs": [],
   "source": [
    "checkpoint = ModelCheckpoint(filepath='modelgender.h5', monitor=\"val_accuracy\", save_best_only=True, verbose=1)"
   ]
  },
  {
   "cell_type": "code",
   "execution_count": null,
   "id": "51357d6c",
   "metadata": {},
   "outputs": [],
   "source": [
    "hist = model.fit(X_train, y_train,\n",
    "                 epochs=epochs,\n",
    "                 shuffle=True,\n",
    "                 batch_size=batchSize,\n",
    "                 validation_split=0.1,\n",
    "                 validation_data=(X_test, y_test),\n",
    "                 callbacks=[checkpoint],\n",
    "                 verbose=2)"
   ]
  },
  {
   "cell_type": "code",
   "execution_count": null,
   "id": "342ef903",
   "metadata": {},
   "outputs": [],
   "source": [
    "loss, acc = model.evaluate(X_test,y_test,verbose=0)\n",
    "print('Test loss: {}'.format(loss))\n",
    "print('Test Accuracy: {}'.format(acc))"
   ]
  },
  {
   "cell_type": "code",
   "execution_count": null,
   "id": "a972304f",
   "metadata": {},
   "outputs": [],
   "source": []
  }
 ],
 "metadata": {
  "kernelspec": {
   "display_name": "Python 3 (ipykernel)",
   "language": "python",
   "name": "python3"
  },
  "language_info": {
   "codemirror_mode": {
    "name": "ipython",
    "version": 3
   },
   "file_extension": ".py",
   "mimetype": "text/x-python",
   "name": "python",
   "nbconvert_exporter": "python",
   "pygments_lexer": "ipython3",
   "version": "3.9.7"
  }
 },
 "nbformat": 4,
 "nbformat_minor": 5
}
